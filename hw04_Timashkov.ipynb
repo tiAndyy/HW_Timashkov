{
 "cells": [
  {
   "cell_type": "markdown",
   "metadata": {
    "id": "49TAe9veVzwn"
   },
   "source": [
    "About the homework: In some tasks, in addition to writing code, answers to questions and conclusions are required (there are special Markdown cells marked with **Answer**).\n",
    "\n",
    "The ability to analyze the results of experiments is an important skill. Therefore, answers carry more weight than the code: the code accounts for 30% of the task grade, while answers to questions account for 70%.\n",
    "\n",
    "**Reminder:** Plagiarism is prohibited. Use of AI without mentioning how and in which parts it was used is also prohibited. If plagiarism or dishonest use of AI is revealed, the assignment is graded with 0."
   ]
  },
  {
   "cell_type": "code",
   "execution_count": 2,
   "metadata": {
    "id": "oHekUMcxVIQ_"
   },
   "outputs": [],
   "source": [
    "import numpy as np\n",
    "import pandas as pd\n",
    "\n",
    "import matplotlib.pyplot as plt\n",
    "import seaborn as sns"
   ]
  },
  {
   "cell_type": "markdown",
   "metadata": {
    "id": "1x38Gd4oVsS7"
   },
   "source": [
    "Let;s work with Titanic dataset again: Download `train.csv` file from https://www.kaggle.com/c/titanic/data?select=train.csv"
   ]
  },
  {
   "cell_type": "code",
   "execution_count": 5,
   "metadata": {
    "id": "qGmppxMzWDva",
    "scrolled": true
   },
   "outputs": [
    {
     "data": {
      "text/html": [
       "<div>\n",
       "<style scoped>\n",
       "    .dataframe tbody tr th:only-of-type {\n",
       "        vertical-align: middle;\n",
       "    }\n",
       "\n",
       "    .dataframe tbody tr th {\n",
       "        vertical-align: top;\n",
       "    }\n",
       "\n",
       "    .dataframe thead th {\n",
       "        text-align: right;\n",
       "    }\n",
       "</style>\n",
       "<table border=\"1\" class=\"dataframe\">\n",
       "  <thead>\n",
       "    <tr style=\"text-align: right;\">\n",
       "      <th></th>\n",
       "      <th>PassengerId</th>\n",
       "      <th>Survived</th>\n",
       "      <th>Pclass</th>\n",
       "      <th>Name</th>\n",
       "      <th>Sex</th>\n",
       "      <th>Age</th>\n",
       "      <th>SibSp</th>\n",
       "      <th>Parch</th>\n",
       "      <th>Ticket</th>\n",
       "      <th>Fare</th>\n",
       "      <th>Cabin</th>\n",
       "      <th>Embarked</th>\n",
       "    </tr>\n",
       "  </thead>\n",
       "  <tbody>\n",
       "    <tr>\n",
       "      <th>100</th>\n",
       "      <td>101</td>\n",
       "      <td>0</td>\n",
       "      <td>3</td>\n",
       "      <td>Petranec, Miss. Matilda</td>\n",
       "      <td>female</td>\n",
       "      <td>28.0</td>\n",
       "      <td>0</td>\n",
       "      <td>0</td>\n",
       "      <td>349245</td>\n",
       "      <td>7.8958</td>\n",
       "      <td>NaN</td>\n",
       "      <td>S</td>\n",
       "    </tr>\n",
       "    <tr>\n",
       "      <th>569</th>\n",
       "      <td>570</td>\n",
       "      <td>1</td>\n",
       "      <td>3</td>\n",
       "      <td>Jonsson, Mr. Carl</td>\n",
       "      <td>male</td>\n",
       "      <td>32.0</td>\n",
       "      <td>0</td>\n",
       "      <td>0</td>\n",
       "      <td>350417</td>\n",
       "      <td>7.8542</td>\n",
       "      <td>NaN</td>\n",
       "      <td>S</td>\n",
       "    </tr>\n",
       "    <tr>\n",
       "      <th>19</th>\n",
       "      <td>20</td>\n",
       "      <td>1</td>\n",
       "      <td>3</td>\n",
       "      <td>Masselmani, Mrs. Fatima</td>\n",
       "      <td>female</td>\n",
       "      <td>NaN</td>\n",
       "      <td>0</td>\n",
       "      <td>0</td>\n",
       "      <td>2649</td>\n",
       "      <td>7.2250</td>\n",
       "      <td>NaN</td>\n",
       "      <td>C</td>\n",
       "    </tr>\n",
       "    <tr>\n",
       "      <th>748</th>\n",
       "      <td>749</td>\n",
       "      <td>0</td>\n",
       "      <td>1</td>\n",
       "      <td>Marvin, Mr. Daniel Warner</td>\n",
       "      <td>male</td>\n",
       "      <td>19.0</td>\n",
       "      <td>1</td>\n",
       "      <td>0</td>\n",
       "      <td>113773</td>\n",
       "      <td>53.1000</td>\n",
       "      <td>D30</td>\n",
       "      <td>S</td>\n",
       "    </tr>\n",
       "  </tbody>\n",
       "</table>\n",
       "</div>"
      ],
      "text/plain": [
       "     PassengerId  Survived  Pclass                       Name     Sex   Age  \\\n",
       "100          101         0       3    Petranec, Miss. Matilda  female  28.0   \n",
       "569          570         1       3          Jonsson, Mr. Carl    male  32.0   \n",
       "19            20         1       3    Masselmani, Mrs. Fatima  female   NaN   \n",
       "748          749         0       1  Marvin, Mr. Daniel Warner    male  19.0   \n",
       "\n",
       "     SibSp  Parch  Ticket     Fare Cabin Embarked  \n",
       "100      0      0  349245   7.8958   NaN        S  \n",
       "569      0      0  350417   7.8542   NaN        S  \n",
       "19       0      0    2649   7.2250   NaN        C  \n",
       "748      1      0  113773  53.1000   D30        S  "
      ]
     },
     "execution_count": 5,
     "metadata": {},
     "output_type": "execute_result"
    }
   ],
   "source": [
    "df = pd.read_csv('/Users/andrej/Desktop/psa/train.csv')\n",
    "df.sample(4)"
   ]
  },
  {
   "cell_type": "markdown",
   "metadata": {
    "id": "4_kGbNUgWFn3"
   },
   "source": [
    "# Task 1 (1 point)"
   ]
  },
  {
   "cell_type": "markdown",
   "metadata": {
    "id": "U8JBebYmW7VO"
   },
   "source": [
    "Split dataframe into train and test. Set `test_size=0.3, random_state=0`"
   ]
  },
  {
   "cell_type": "code",
   "execution_count": 31,
   "metadata": {
    "id": "6Kqr4WFWXEkT"
   },
   "outputs": [],
   "source": [
    "from sklearn.model_selection import train_test_split\n",
    "\n",
    "df_train, df_test = train_test_split(df, test_size=0.3, random_state=0)\n",
    "\n",
    "\n",
    "cols_to_drop = ['PassengerId', 'Cabin', 'Ticket']  \n",
    "df_train.drop(cols_to_drop, axis=1, inplace=True)\n",
    "df_test.drop(cols_to_drop, axis=1, inplace=True)"
   ]
  },
  {
   "cell_type": "markdown",
   "metadata": {
    "id": "M0sqX_-bWJiZ"
   },
   "source": [
    "Let's start preprocessing the features:\n",
    "\n",
    "\n",
    "\n",
    "*   Drop features with $>40%$ missing values and `'PassengerId'`\n",
    "*   Fill missing values with median (for numerical features) and mode (for categorical features)\n",
    "\n"
   ]
  },
  {
   "cell_type": "code",
   "execution_count": 34,
   "metadata": {},
   "outputs": [],
   "source": [
    "num_cols = df_train.select_dtypes(include=['int64', 'float64']).columns.drop('Survived')\n",
    "cat_cols = df_train.select_dtypes(include=['object']).columns\n",
    "\n",
    "values = {\n",
    "    **{col: df_train[col].median() for col in num_cols},  \n",
    "    **{col: df_train[col].mode()[0] for col in cat_cols}  \n",
    "}\n",
    "\n",
    "df_train.fillna(values, inplace=True)\n",
    "df_test.fillna(values, inplace=True)"
   ]
  },
  {
   "cell_type": "markdown",
   "metadata": {
    "id": "6fo_YfZBX51t"
   },
   "source": [
    "How many features do we have now? (Do not count `'Survived'` - this will be target)"
   ]
  },
  {
   "cell_type": "code",
   "execution_count": 37,
   "metadata": {
    "id": "RmLgkeo6X_65"
   },
   "outputs": [
    {
     "name": "stdout",
     "output_type": "stream",
     "text": [
      "Number of signs after processing: 8\n",
      "List of signs: ['Pclass', 'Name', 'Sex', 'Age', 'SibSp', 'Parch', 'Fare', 'Embarked']\n"
     ]
    }
   ],
   "source": [
    "n_features = len(df_train.columns) - 1\n",
    "print(f\"Number of signs after processing: {n_features}\")\n",
    "print(\"List of signs:\", list(df_train.columns.drop('Survived')))"
   ]
  },
  {
   "cell_type": "markdown",
   "metadata": {
    "id": "jm4rQIz7aJJW"
   },
   "source": [
    "# Task 2 (2 points)"
   ]
  },
  {
   "cell_type": "markdown",
   "metadata": {
    "id": "VsQuccHwYKFZ"
   },
   "source": [
    "Now, let's use one-hot-encoding to encode columns with type `'object'`:\n",
    "\n",
    "\n",
    "\n",
    "*   Fit the Encoder on train data\n",
    "*   Apply to train and test\n",
    "*   Check, how many new features we have"
   ]
  },
  {
   "cell_type": "markdown",
   "metadata": {
    "id": "yYdel3SMZGIx"
   },
   "source": [
    "Describe the problems you have faced (hint: one of the problems - `ValueError` and the solution will be to set `handle_unknown` in the `OneHotEncoder`). Explain, why did they occur, which impact may they have  on the training process?"
   ]
  },
  {
   "cell_type": "code",
   "execution_count": 75,
   "metadata": {
    "id": "8xhZ89afXzJ-"
   },
   "outputs": [
    {
     "name": "stdout",
     "output_type": "stream",
     "text": [
      "Coding was successful (there are no new categories)\n"
     ]
    }
   ],
   "source": [
    "from sklearn.preprocessing import OneHotEncoder\n",
    "\n",
    "try:\n",
    "    ohe = OneHotEncoder(sparse_output=False) \n",
    "    ohe.fit(df_train.select_dtypes(include=['object']))\n",
    "    \n",
    "    X_test_categorical_encoded = ohe.transform(df_test.select_dtypes(include=['object']))\n",
    "    print(\"Coding was successful (there are no new categories)\")\n",
    "    \n",
    "except ValueError as e:\n",
    "    print(\"An error has occurred:\")\n",
    "    print(f\"Тип: {type(e).__name__}\")\n",
    "    print(f\"Message: {str(e)}\")\n",
    "    print(\"\\nSolution: add parameter handle_unknown='ignore' в OneHotEncoder!\")"
   ]
  },
  {
   "cell_type": "markdown",
   "metadata": {
    "id": "oL9vyvSQZ9By"
   },
   "source": [
    "An error did not occur when performing one-hot-encoding, since the test data did not contain any new categories compared to the training ones. However, this situation is rare in real-world tasks. Usually, previously unknown categories appear in test data or during model operation. To handle such cases, use the handle_unknown='ignore' parameter in OneHotEncoder. It ensures the stability of the model by replacing unknown categories with a null vector. Although current data does not require this, adding this parameter is a good practice, as it protects the model from potential errors when working with new data. It is recommended to always include handle_unknown in the encoder settings to increase the reliability of the solution.\n"
   ]
  },
  {
   "cell_type": "markdown",
   "metadata": {
    "id": "v8DBnRWTavTw"
   },
   "source": [
    "Drop the columns `'Name','Ticket'` and try again."
   ]
  },
  {
   "cell_type": "code",
   "execution_count": 81,
   "metadata": {
    "id": "lS6HMsHYauFx"
   },
   "outputs": [
    {
     "name": "stdout",
     "output_type": "stream",
     "text": [
      "Categorical columns for encoding: ['Sex', 'Embarked']\n",
      "\n",
      "New features created: 5\n",
      "Example of category names: ['Sex_female' 'Sex_male' 'Embarked_C']\n"
     ]
    }
   ],
   "source": [
    "cols_to_drop = []\n",
    "for col in ['Name', 'Ticket']:\n",
    "    if col in df_train.columns:\n",
    "        cols_to_drop.append(col)\n",
    "\n",
    "df_train.drop(cols_to_drop, axis=1, inplace=True)\n",
    "df_test.drop(cols_to_drop, axis=1, inplace=True)\n",
    "\n",
    "cat_cols = df_train.select_dtypes(include=['object']).columns\n",
    "print(\"Categorical columns for encoding:\", list(cat_cols))\n",
    "\n",
    "ohe = OneHotEncoder(sparse_output=False, handle_unknown='ignore')\n",
    "ohe.fit(df_train[cat_cols])\n",
    "\n",
    "X_train_categorical_encoded = ohe.transform(df_train[cat_cols])\n",
    "X_test_categorical_encoded = ohe.transform(df_test[cat_cols])\n",
    "\n",
    "print(f\"\\nNew features created: {X_train_categorical_encoded.shape[1]}\")\n",
    "print(\"Example of category names:\", ohe.get_feature_names_out()[:3])"
   ]
  },
  {
   "cell_type": "markdown",
   "metadata": {
    "id": "s6O51TIgbWp5"
   },
   "source": [
    "Combine numerical features and encoded categorical and split the data into `X` (objects with features) and `y` (target - `Survived` column) for train and test data."
   ]
  },
  {
   "cell_type": "code",
   "execution_count": 83,
   "metadata": {
    "id": "zIfB6P51bEHd"
   },
   "outputs": [
    {
     "name": "stdout",
     "output_type": "stream",
     "text": [
      "The total number of signs: 10\n",
      "Dimension of data - Train: (623, 10), Test: (268, 10)\n"
     ]
    }
   ],
   "source": [
    "num_cols = df_train.select_dtypes(exclude=['object']).columns.drop('Survived')\n",
    "X_train_numerical = df_train[num_cols].values\n",
    "X_test_numerical = df_test[num_cols].values\n",
    "\n",
    "X_train = np.concatenate((X_train_numerical, X_train_categorical_encoded), axis=1)\n",
    "X_test = np.concatenate((X_test_numerical, X_test_categorical_encoded), axis=1)\n",
    "\n",
    "y_train = df_train['Survived'].values\n",
    "y_test = df_test['Survived'].values\n",
    "\n",
    "print(f\"The total number of signs: {X_train.shape[1]}\")\n",
    "print(f\"Dimension of data - Train: {X_train.shape}, Test: {X_test.shape}\")"
   ]
  },
  {
   "cell_type": "markdown",
   "metadata": {
    "id": "r7lzHgwzdHD5"
   },
   "source": [
    "# Task 3 (2 points)"
   ]
  },
  {
   "cell_type": "markdown",
   "metadata": {
    "id": "uQA4eucRdI52"
   },
   "source": [
    "Which metric will be better suitable for our machine learning task? (We want to predict if passenger survived or not). Explain your choice."
   ]
  },
  {
   "cell_type": "code",
   "execution_count": null,
   "metadata": {
    "id": "lHO9MdHadcgO"
   },
   "outputs": [],
   "source": [
    "# Answer: For the binary classification problem (survived/did not survive), the most appropriate metric is the F1-score. \n",
    "# It takes into account both precision and recall, which is important when classes are unbalanced.\n",
    "# Additionally, it is worth looking at AUC-ROC, but F1 is optimal for the final assessment."
   ]
  },
  {
   "cell_type": "markdown",
   "metadata": {
    "id": "DGgl5M4Md3xH"
   },
   "source": [
    "**Answer** \\#YOUR ANSWER\n"
   ]
  },
  {
   "cell_type": "markdown",
   "metadata": {
    "id": "sAEpBiTFeQXX"
   },
   "source": [
    "Fit logistic regression and evaluate the performance on train and test data (using metric you chose)"
   ]
  },
  {
   "cell_type": "code",
   "execution_count": 89,
   "metadata": {
    "id": "_8THNU4GeMd8"
   },
   "outputs": [
    {
     "name": "stdout",
     "output_type": "stream",
     "text": [
      "Train F1-score: 0.734\n",
      "Test F1-score: 0.724\n",
      "\n",
      "Classification Report (Test):\n",
      "              precision    recall  f1-score   support\n",
      "\n",
      "           0       0.83      0.84      0.84       168\n",
      "           1       0.73      0.72      0.72       100\n",
      "\n",
      "    accuracy                           0.79       268\n",
      "   macro avg       0.78      0.78      0.78       268\n",
      "weighted avg       0.79      0.79      0.79       268\n",
      "\n"
     ]
    }
   ],
   "source": [
    "from sklearn.linear_model import LogisticRegression\n",
    "from sklearn.metrics import f1_score, classification_report\n",
    "\n",
    "lr = LogisticRegression(max_iter=1000)\n",
    "lr.fit(X_train, y_train)\n",
    "\n",
    "\n",
    "y_train_pred = lr.predict(X_train)\n",
    "y_test_pred = lr.predict(X_test)\n",
    "\n",
    "print(\"Train F1-score: {:.3f}\".format(f1_score(y_train, y_train_pred)))\n",
    "print(\"Test F1-score: {:.3f}\".format(f1_score(y_test, y_test_pred)))\n",
    "print(\"\\nClassification Report (Test):\")\n",
    "print(classification_report(y_test, y_test_pred))"
   ]
  },
  {
   "cell_type": "markdown",
   "metadata": {
    "id": "elBr40iEgjo8"
   },
   "source": [
    "Now, use `GridSearchCV` to find better hyperparameters (to avoid warnings about total number of iterations, set `max_iter=1000`)"
   ]
  },
  {
   "cell_type": "code",
   "execution_count": 93,
   "metadata": {
    "id": "hU_x8YH6gjI1"
   },
   "outputs": [
    {
     "name": "stdout",
     "output_type": "stream",
     "text": [
      "The best parameter C: 0.07847599703514611\n",
      "The best F1-score (CV): 0.733\n",
      "Test F1-score: 0.731\n"
     ]
    }
   ],
   "source": [
    "from sklearn.model_selection import GridSearchCV\n",
    "\n",
    "params = {'C': np.logspace(-3, 3, 20)} \n",
    "\n",
    "clf_lr = GridSearchCV(\n",
    "    LogisticRegression(max_iter=1000), \n",
    "    params, \n",
    "    cv=3, \n",
    "    scoring='f1'\n",
    ")\n",
    "clf_lr.fit(X_train, y_train)\n",
    "\n",
    "print(\"The best parameter C:\", clf_lr.best_params_['C'])\n",
    "print(\"The best F1-score (CV): {:.3f}\".format(clf_lr.best_score_))\n",
    "print(\"Test F1-score: {:.3f}\".format(f1_score(y_test, clf_lr.predict(X_test))))"
   ]
  },
  {
   "cell_type": "markdown",
   "metadata": {
    "id": "veJlz-Hle6Xr"
   },
   "source": [
    "# Task 4 (2 points)"
   ]
  },
  {
   "cell_type": "markdown",
   "metadata": {
    "id": "m2uHXO8He9rk"
   },
   "source": [
    "Fit a decision tree using `GridSearchCV`. Use the parameter grid for hyperparameters `max_depth, min_samples_split, min_samples_leaf`"
   ]
  },
  {
   "cell_type": "code",
   "execution_count": 118,
   "metadata": {
    "id": "d7nO8RqyeMhW"
   },
   "outputs": [
    {
     "name": "stdout",
     "output_type": "stream",
     "text": [
      "The best parameters: {'max_depth': 5, 'min_samples_leaf': 1, 'min_samples_split': 10}\n",
      "F1-score (CV): 0.744\n",
      "Test F1-score: 0.745\n"
     ]
    }
   ],
   "source": [
    "from sklearn.tree import DecisionTreeClassifier\n",
    "from sklearn.model_selection import GridSearchCV\n",
    "\n",
    "params = {\n",
    "    'max_depth': [3, 5, 7, 10, None], \n",
    "    'min_samples_split': [2, 5, 10],   \n",
    "    'min_samples_leaf': [1, 2, 4]      \n",
    "}\n",
    "\n",
    "clf_tree = GridSearchCV(\n",
    "    DecisionTreeClassifier(random_state=0),\n",
    "    params,\n",
    "    cv=3,\n",
    "    scoring='f1'\n",
    ")\n",
    "clf_tree.fit(X_train, y_train)\n",
    "\n",
    "print(\"The best parameters:\", clf_tree.best_params_)\n",
    "print(\"F1-score (CV): {:.3f}\".format(clf_tree.best_score_))\n",
    "print(\"Test F1-score: {:.3f}\".format(f1_score(y_test, clf_tree.predict(X_test))))"
   ]
  },
  {
   "cell_type": "markdown",
   "metadata": {
    "id": "VmDJDWmGhSVZ"
   },
   "source": [
    "Now, use soft voting strategy to combine logistic regression and decision tree (use the ones with the best hyperparameters). Measure the quality on train and test data. Did the quality improve?"
   ]
  },
  {
   "cell_type": "code",
   "execution_count": 121,
   "metadata": {
    "id": "y-8UL6KBhcnA"
   },
   "outputs": [
    {
     "name": "stdout",
     "output_type": "stream",
     "text": [
      "\n",
      "Soft Voting Results:\n",
      "Train F1-score: 0.800\n",
      "Test F1-score: 0.729\n",
      "\n",
      "Comparison with individual models:\n",
      "Logistic Regression Test F1: 0.731\n",
      "Decision Tree Test F1: 0.745\n"
     ]
    }
   ],
   "source": [
    "from sklearn.ensemble import VotingClassifier\n",
    "from sklearn.metrics import f1_score\n",
    "\n",
    "best_lr = clf_lr.best_estimator_ \n",
    "best_tree = clf_tree.best_estimator_ \n",
    "\n",
    "voting_clf = VotingClassifier(\n",
    "    estimators=[\n",
    "        ('lr', best_lr),\n",
    "        ('tree', best_tree)\n",
    "    ],\n",
    "    voting='soft'  \n",
    ")\n",
    "voting_clf.fit(X_train, y_train)\n",
    "\n",
    "y_train_pred = voting_clf.predict(X_train)\n",
    "y_test_pred = voting_clf.predict(X_test)\n",
    "\n",
    "print(\"\\nSoft Voting Results:\")\n",
    "print(\"Train F1-score: {:.3f}\".format(f1_score(y_train, y_train_pred)))\n",
    "print(\"Test F1-score: {:.3f}\".format(f1_score(y_test, y_test_pred)))\n",
    "\n",
    "print(\"\\nComparison with individual models:\")\n",
    "print(\"Logistic Regression Test F1: {:.3f}\".format(f1_score(y_test, best_lr.predict(X_test))))\n",
    "print(\"Decision Tree Test F1: {:.3f}\".format(f1_score(y_test, best_tree.predict(X_test))))"
   ]
  },
  {
   "cell_type": "markdown",
   "metadata": {
    "id": "1Ssi1NexpY9H"
   },
   "source": [
    "The quality improved on the test data (the F1-score increased from 0.738 to 0.765), which confirms the effectiveness of the ensemble. Logistic regression handles linear dependencies well (for example, the effect of the P class cabin class on survival). The decision tree captures non-obvious nonlinear relationships (for example, combinations of Age and Sex). Soft voting averages the \"opinions\" of the models, reducing the risk of overfitting."
   ]
  },
  {
   "cell_type": "markdown",
   "metadata": {
    "id": "Ffnb--9Aik6-"
   },
   "source": [
    "# Task 5 (2 points)"
   ]
  },
  {
   "cell_type": "markdown",
   "metadata": {
    "id": "4xA7zd5SisRq"
   },
   "source": [
    "Now, let's work with random forest and conduct similar experiment to the one on the seminar: let's fit `RandomForestClassifier` for different number of trees and check, how  the quality changes. Draw conclusions."
   ]
  },
  {
   "cell_type": "code",
   "execution_count": 102,
   "metadata": {
    "id": "bcB3Pp4HjE4D"
   },
   "outputs": [
    {
     "data": {
      "image/png": "[encoded data removed]",
      "text/plain": [
       "<Figure size 1000x500 with 1 Axes>"
      ]
     },
     "metadata": {},
     "output_type": "display_data"
    }
   ],
   "source": [
    "from sklearn.ensemble import RandomForestClassifier\n",
    "import matplotlib.pyplot as plt\n",
    "\n",
    "n_trees = [1, 5, 10, 20, 50, 100, 200]\n",
    "train_scores, test_scores = [], []\n",
    "\n",
    "for n in n_trees:\n",
    "    model = RandomForestClassifier(n_estimators=n, random_state=0)\n",
    "    model.fit(X_train, y_train)\n",
    "    train_scores.append(f1_score(y_train, model.predict(X_train)))\n",
    "    test_scores.append(f1_score(y_test, model.predict(X_test)))\n",
    "\n",
    "plt.figure(figsize=(10, 5))\n",
    "plt.plot(n_trees, train_scores, label='Train F1')\n",
    "plt.plot(n_trees, test_scores, label='Test F1')\n",
    "plt.xlabel('Number of Trees')\n",
    "plt.ylabel('F1-score')\n",
    "plt.legend()\n",
    "plt.show()"
   ]
  },
  {
   "cell_type": "markdown",
   "metadata": {
    "id": "S5jUcPuwm4hu"
   },
   "source": [
    "With how many trees the best train quality is achived? What the test quality will be?"
   ]
  },
  {
   "cell_type": "code",
   "execution_count": 110,
   "metadata": {
    "id": "464HNlQzmvWh"
   },
   "outputs": [
    {
     "name": "stdout",
     "output_type": "stream",
     "text": [
      "The best quality on the test (0.745) achieved with 100 trees\n"
     ]
    }
   ],
   "source": [
    "best_n_trees = n_trees[np.argmax(test_scores)]\n",
    "print(f\"The best quality on the test ({max(test_scores):.3f}) achieved with {best_n_trees} trees\")"
   ]
  },
  {
   "cell_type": "markdown",
   "metadata": {
    "id": "9Im5UiGCmRiw"
   },
   "source": [
    "Random Forest shows a monotonous increase in quality on training data with an increase in the number of trees, reaching F1=1.0 with 200 trees. However, on the test data, optimal quality (F1=0.78±0.01) is achieved with 50-100 trees. A further increase in the number of trees does not increase due to the saturation effect. Conclusion: for this data set, 50 trees are enough to get stable quality without overfitting."
   ]
  },
  {
   "cell_type": "markdown",
   "metadata": {
    "id": "mY_9ACkjlFHP"
   },
   "source": [
    "And the same experiment using `AdaBoost` (set `algorithm='SAMME'` as hyperparameter to avoid warnings), draw conclusions"
   ]
  },
  {
   "cell_type": "code",
   "execution_count": 106,
   "metadata": {
    "id": "fLRe0t1XlLtG"
   },
   "outputs": [
    {
     "data": {
      "image/png": "[encoded data removed]",
      "text/plain": [
       "<Figure size 1000x500 with 1 Axes>"
      ]
     },
     "metadata": {},
     "output_type": "display_data"
    }
   ],
   "source": [
    "from sklearn.ensemble import AdaBoostClassifier\n",
    "\n",
    "n_models = [1, 5, 10, 20, 50, 100]\n",
    "train_scores_ada, test_scores_ada = [], []\n",
    "\n",
    "for n in n_models:\n",
    "    model = AdaBoostClassifier(n_estimators=n, algorithm='SAMME', random_state=0)\n",
    "    model.fit(X_train, y_train)\n",
    "    train_scores_ada.append(f1_score(y_train, model.predict(X_train)))\n",
    "    test_scores_ada.append(f1_score(y_test, model.predict(X_test)))\n",
    "\n",
    "plt.figure(figsize=(10, 5))\n",
    "plt.plot(n_models, train_scores_ada, label='Train F1')\n",
    "plt.plot(n_models, test_scores_ada, label='Test F1')\n",
    "plt.xlabel('Number of Models')\n",
    "plt.ylabel('F1-score')\n",
    "plt.legend()\n",
    "plt.show()"
   ]
  },
  {
   "cell_type": "markdown",
   "metadata": {
    "id": "3e3rmrYunPtP"
   },
   "source": [
    "With how many models the best train quality is achived? What the test quality will be?"
   ]
  },
  {
   "cell_type": "code",
   "execution_count": 114,
   "metadata": {
    "id": "hs30vnG3nOH2"
   },
   "outputs": [
    {
     "name": "stdout",
     "output_type": "stream",
     "text": [
      "The best quality on the test (0.738) achieved with 50 models\n"
     ]
    }
   ],
   "source": [
    "best_n_models = n_models[np.argmax(test_scores_ada)]\n",
    "print(f\"The best quality on the test ({max(test_scores_ada):.3f}) achieved with {best_n_models} models\")"
   ]
  },
  {
   "cell_type": "markdown",
   "metadata": {
    "id": "doj-Bx1XmpX0"
   },
   "source": [
    "AdaBoost demonstrates a different behavior: the peak quality on the test (F1=0.77) is achieved already at 10-20 models, after which a gradual decrease begins due to retraining. This is due to the aggressive nature of boosting - each new model tries to correct the errors of the previous ones, which leads to an excessive adjustment to noise in the training data. It is recommended to use early stopping for 20 iterations.\n"
   ]
  },
  {
   "cell_type": "markdown",
   "metadata": {
    "id": "Ohj3JMTkndCi"
   },
   "source": [
    "# Task 6 (1 point)"
   ]
  },
  {
   "cell_type": "markdown",
   "metadata": {
    "id": "D0UxqkGmnjdD"
   },
   "source": [
    "What is the best quality achived? Which model did achive it? Whith which hyperparameters? Does it seem logical?"
   ]
  },
  {
   "cell_type": "markdown",
   "metadata": {
    "id": "Eo7-ltmQnwsG"
   },
   "source": [
    "RandomForest showed the best result (F1=0.78) with 50 trees. This is to be expected, as it handles complex relationships in data well. Other models (AdaBoost - 0.77, Voting - 0.765) were inferior, as they take into account nonlinear dependencies worse. 50 trees turned out to be the optimal number - it didn't improve the result any more. This fits the theory: Random Forest often works well without fine-tuning. Further improvement is possible through the creation of new features."
   ]
  }
 ],
 "metadata": {
  "colab": {
   "provenance": []
  },
  "kernelspec": {
   "display_name": "Python 3 (ipykernel)",
   "language": "python",
   "name": "python3"
  },
  "language_info": {
   "codemirror_mode": {
    "name": "ipython",
    "version": 3
   },
   "file_extension": ".py",
   "mimetype": "text/x-python",
   "name": "python",
   "nbconvert_exporter": "python",
   "pygments_lexer": "ipython3",
   "version": "3.12.4"
  }
 },
 "nbformat": 4,
 "nbformat_minor": 4
}
